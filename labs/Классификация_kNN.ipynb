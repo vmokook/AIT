{
 "cells": [
  {
   "cell_type": "markdown",
   "id": "e549d3cf",
   "metadata": {},
   "source": [
    "<h1><center>Лабораторная работа №3 \"Классификация kNN\".</center></h1>\n",
    "<h1><center>Вахлаева Марина Олеговна</center></h1>"
   ]
  },
  {
   "cell_type": "code",
   "execution_count": 1,
   "id": "da26c7a1",
   "metadata": {},
   "outputs": [],
   "source": [
    "import pandas as pd\n",
    "import numpy as np\n",
    "from pathlib import Path\n",
    "import matplotlib.pyplot as plt\n",
    "import seaborn as sns\n",
    "\n",
    "\n",
    "from sklearn.model_selection import train_test_split\n",
    "from sklearn.neighbors import KNeighborsClassifier\n",
    "from sklearn.metrics import accuracy_score, precision_score, recall_score, f1_score, classification_report, confusion_matrix\n",
    "from sklearn.preprocessing import StandardScaler, MinMaxScaler\n",
    "from sklearn.model_selection import cross_val_score, StratifiedKFold\n"
   ]
  },
  {
   "cell_type": "markdown",
   "id": "5f256188",
   "metadata": {},
   "source": [
    "<h3><center>Бинарная классификация</center></h3>"
   ]
  },
  {
   "cell_type": "code",
   "execution_count": 2,
   "id": "5f449465",
   "metadata": {},
   "outputs": [],
   "source": [
    "path = 'C:/Users/PC/Downloads/Python/TAI/datasets/'\n",
    "df1 = pd.read_csv(Path(path, 'diabetes_prediction_dataset.csv'))"
   ]
  },
  {
   "cell_type": "code",
   "execution_count": 3,
   "id": "bc8d9168",
   "metadata": {},
   "outputs": [
    {
     "data": {
      "text/html": [
       "<div>\n",
       "<style scoped>\n",
       "    .dataframe tbody tr th:only-of-type {\n",
       "        vertical-align: middle;\n",
       "    }\n",
       "\n",
       "    .dataframe tbody tr th {\n",
       "        vertical-align: top;\n",
       "    }\n",
       "\n",
       "    .dataframe thead th {\n",
       "        text-align: right;\n",
       "    }\n",
       "</style>\n",
       "<table border=\"1\" class=\"dataframe\">\n",
       "  <thead>\n",
       "    <tr style=\"text-align: right;\">\n",
       "      <th></th>\n",
       "      <th>gender</th>\n",
       "      <th>age</th>\n",
       "      <th>hypertension</th>\n",
       "      <th>heart_disease</th>\n",
       "      <th>smoking_history</th>\n",
       "      <th>bmi</th>\n",
       "      <th>HbA1c_level</th>\n",
       "      <th>blood_glucose_level</th>\n",
       "      <th>diabetes</th>\n",
       "    </tr>\n",
       "  </thead>\n",
       "  <tbody>\n",
       "    <tr>\n",
       "      <th>0</th>\n",
       "      <td>Female</td>\n",
       "      <td>80.0</td>\n",
       "      <td>0</td>\n",
       "      <td>1</td>\n",
       "      <td>never</td>\n",
       "      <td>25.19</td>\n",
       "      <td>6.6</td>\n",
       "      <td>140</td>\n",
       "      <td>0</td>\n",
       "    </tr>\n",
       "    <tr>\n",
       "      <th>1</th>\n",
       "      <td>Female</td>\n",
       "      <td>54.0</td>\n",
       "      <td>0</td>\n",
       "      <td>0</td>\n",
       "      <td>No Info</td>\n",
       "      <td>27.32</td>\n",
       "      <td>6.6</td>\n",
       "      <td>80</td>\n",
       "      <td>0</td>\n",
       "    </tr>\n",
       "    <tr>\n",
       "      <th>2</th>\n",
       "      <td>Male</td>\n",
       "      <td>28.0</td>\n",
       "      <td>0</td>\n",
       "      <td>0</td>\n",
       "      <td>never</td>\n",
       "      <td>27.32</td>\n",
       "      <td>5.7</td>\n",
       "      <td>158</td>\n",
       "      <td>0</td>\n",
       "    </tr>\n",
       "    <tr>\n",
       "      <th>3</th>\n",
       "      <td>Female</td>\n",
       "      <td>36.0</td>\n",
       "      <td>0</td>\n",
       "      <td>0</td>\n",
       "      <td>current</td>\n",
       "      <td>23.45</td>\n",
       "      <td>5.0</td>\n",
       "      <td>155</td>\n",
       "      <td>0</td>\n",
       "    </tr>\n",
       "    <tr>\n",
       "      <th>4</th>\n",
       "      <td>Male</td>\n",
       "      <td>76.0</td>\n",
       "      <td>1</td>\n",
       "      <td>1</td>\n",
       "      <td>current</td>\n",
       "      <td>20.14</td>\n",
       "      <td>4.8</td>\n",
       "      <td>155</td>\n",
       "      <td>0</td>\n",
       "    </tr>\n",
       "    <tr>\n",
       "      <th>...</th>\n",
       "      <td>...</td>\n",
       "      <td>...</td>\n",
       "      <td>...</td>\n",
       "      <td>...</td>\n",
       "      <td>...</td>\n",
       "      <td>...</td>\n",
       "      <td>...</td>\n",
       "      <td>...</td>\n",
       "      <td>...</td>\n",
       "    </tr>\n",
       "    <tr>\n",
       "      <th>99995</th>\n",
       "      <td>Female</td>\n",
       "      <td>80.0</td>\n",
       "      <td>0</td>\n",
       "      <td>0</td>\n",
       "      <td>No Info</td>\n",
       "      <td>27.32</td>\n",
       "      <td>6.2</td>\n",
       "      <td>90</td>\n",
       "      <td>0</td>\n",
       "    </tr>\n",
       "    <tr>\n",
       "      <th>99996</th>\n",
       "      <td>Female</td>\n",
       "      <td>2.0</td>\n",
       "      <td>0</td>\n",
       "      <td>0</td>\n",
       "      <td>No Info</td>\n",
       "      <td>17.37</td>\n",
       "      <td>6.5</td>\n",
       "      <td>100</td>\n",
       "      <td>0</td>\n",
       "    </tr>\n",
       "    <tr>\n",
       "      <th>99997</th>\n",
       "      <td>Male</td>\n",
       "      <td>66.0</td>\n",
       "      <td>0</td>\n",
       "      <td>0</td>\n",
       "      <td>former</td>\n",
       "      <td>27.83</td>\n",
       "      <td>5.7</td>\n",
       "      <td>155</td>\n",
       "      <td>0</td>\n",
       "    </tr>\n",
       "    <tr>\n",
       "      <th>99998</th>\n",
       "      <td>Female</td>\n",
       "      <td>24.0</td>\n",
       "      <td>0</td>\n",
       "      <td>0</td>\n",
       "      <td>never</td>\n",
       "      <td>35.42</td>\n",
       "      <td>4.0</td>\n",
       "      <td>100</td>\n",
       "      <td>0</td>\n",
       "    </tr>\n",
       "    <tr>\n",
       "      <th>99999</th>\n",
       "      <td>Female</td>\n",
       "      <td>57.0</td>\n",
       "      <td>0</td>\n",
       "      <td>0</td>\n",
       "      <td>current</td>\n",
       "      <td>22.43</td>\n",
       "      <td>6.6</td>\n",
       "      <td>90</td>\n",
       "      <td>0</td>\n",
       "    </tr>\n",
       "  </tbody>\n",
       "</table>\n",
       "<p>100000 rows × 9 columns</p>\n",
       "</div>"
      ],
      "text/plain": [
       "       gender   age  hypertension  heart_disease smoking_history    bmi  \\\n",
       "0      Female  80.0             0              1           never  25.19   \n",
       "1      Female  54.0             0              0         No Info  27.32   \n",
       "2        Male  28.0             0              0           never  27.32   \n",
       "3      Female  36.0             0              0         current  23.45   \n",
       "4        Male  76.0             1              1         current  20.14   \n",
       "...       ...   ...           ...            ...             ...    ...   \n",
       "99995  Female  80.0             0              0         No Info  27.32   \n",
       "99996  Female   2.0             0              0         No Info  17.37   \n",
       "99997    Male  66.0             0              0          former  27.83   \n",
       "99998  Female  24.0             0              0           never  35.42   \n",
       "99999  Female  57.0             0              0         current  22.43   \n",
       "\n",
       "       HbA1c_level  blood_glucose_level  diabetes  \n",
       "0              6.6                  140         0  \n",
       "1              6.6                   80         0  \n",
       "2              5.7                  158         0  \n",
       "3              5.0                  155         0  \n",
       "4              4.8                  155         0  \n",
       "...            ...                  ...       ...  \n",
       "99995          6.2                   90         0  \n",
       "99996          6.5                  100         0  \n",
       "99997          5.7                  155         0  \n",
       "99998          4.0                  100         0  \n",
       "99999          6.6                   90         0  \n",
       "\n",
       "[100000 rows x 9 columns]"
      ]
     },
     "execution_count": 3,
     "metadata": {},
     "output_type": "execute_result"
    }
   ],
   "source": [
    "df1"
   ]
  },
  {
   "cell_type": "markdown",
   "id": "dfd7bb45",
   "metadata": {},
   "source": [
    "Для бинарной классификации будет использоваться набор данных для прогнозирования диабета. \n",
    "\n",
    "Датасет представляет собой совокупность медицинских и демографических данных пациентов, а также их статуса диабета (положительного или отрицательного). Этот набор данных можно использовать для создания моделей машинного обучения для прогнозирования диабета у пациентов на основе их истории болезни и демографической информации. Это может быть полезно для медицинских работников при выявлении пациентов, которые могут подвергаться риску развития диабета, и при разработке индивидуальных планов лечения. Кроме того, набор данных может быть использован исследователями для изучения взаимосвязи между различными медицинскими и демографическими факторами и вероятностью развития диабета.\n",
    "\n",
    "Ссылка на датасет: https://www.kaggle.com/datasets/iammustafatz/diabetes-prediction-dataset/data\n",
    "        \n",
    "|       Признак       |       Расшифровка      |\n",
    "|---------------------|------------------------|\n",
    "| gender              |Пол                     |\n",
    "| age                 |Возраст                 | \n",
    "| hypertension        |Гипертония              | \n",
    "| heart_disease       |Болезни сердца          | \n",
    "| smoking_history     |История курения         |\n",
    "| bmi                 |Индекс массы тела       |\n",
    "| HbA1c_level         |Уровень HbA1c           | \n",
    "| blood_glucose_level |Уровень глюкозы в крови |\n",
    "| diabetes            |Диабет                  | "
   ]
  },
  {
   "cell_type": "code",
   "execution_count": 4,
   "id": "930d1ea2",
   "metadata": {},
   "outputs": [
    {
     "name": "stdout",
     "output_type": "stream",
     "text": [
      "<class 'pandas.core.frame.DataFrame'>\n",
      "RangeIndex: 100000 entries, 0 to 99999\n",
      "Data columns (total 9 columns):\n",
      " #   Column               Non-Null Count   Dtype  \n",
      "---  ------               --------------   -----  \n",
      " 0   gender               100000 non-null  object \n",
      " 1   age                  100000 non-null  float64\n",
      " 2   hypertension         100000 non-null  int64  \n",
      " 3   heart_disease        100000 non-null  int64  \n",
      " 4   smoking_history      100000 non-null  object \n",
      " 5   bmi                  100000 non-null  float64\n",
      " 6   HbA1c_level          100000 non-null  float64\n",
      " 7   blood_glucose_level  100000 non-null  int64  \n",
      " 8   diabetes             100000 non-null  int64  \n",
      "dtypes: float64(3), int64(4), object(2)\n",
      "memory usage: 6.9+ MB\n"
     ]
    }
   ],
   "source": [
    "df1.info()"
   ]
  },
  {
   "cell_type": "markdown",
   "id": "9769bcda",
   "metadata": {},
   "source": [
    "**Предобработка данных**"
   ]
  },
  {
   "cell_type": "code",
   "execution_count": 5,
   "id": "66b28a7f",
   "metadata": {},
   "outputs": [
    {
     "data": {
      "text/plain": [
       "gender                 0\n",
       "age                    0\n",
       "hypertension           0\n",
       "heart_disease          0\n",
       "smoking_history        0\n",
       "bmi                    0\n",
       "HbA1c_level            0\n",
       "blood_glucose_level    0\n",
       "diabetes               0\n",
       "dtype: int64"
      ]
     },
     "execution_count": 5,
     "metadata": {},
     "output_type": "execute_result"
    }
   ],
   "source": [
    "#Посмотрим, есть ли \"non-null\" значения\n",
    "df1.isnull().sum()"
   ]
  },
  {
   "cell_type": "markdown",
   "id": "7da40c88",
   "metadata": {},
   "source": [
    "Видно, что в датасете нет \"non-null\" значений. Думаю, что для прогнозирования диабета не будет важна информация о половом признаке пациента, а также уберем еще признак, связанный с историей курения. Заодно исключим target."
   ]
  },
  {
   "cell_type": "code",
   "execution_count": 6,
   "id": "37b11adf",
   "metadata": {
    "scrolled": false
   },
   "outputs": [
    {
     "data": {
      "text/html": [
       "<div>\n",
       "<style scoped>\n",
       "    .dataframe tbody tr th:only-of-type {\n",
       "        vertical-align: middle;\n",
       "    }\n",
       "\n",
       "    .dataframe tbody tr th {\n",
       "        vertical-align: top;\n",
       "    }\n",
       "\n",
       "    .dataframe thead th {\n",
       "        text-align: right;\n",
       "    }\n",
       "</style>\n",
       "<table border=\"1\" class=\"dataframe\">\n",
       "  <thead>\n",
       "    <tr style=\"text-align: right;\">\n",
       "      <th></th>\n",
       "      <th>age</th>\n",
       "      <th>hypertension</th>\n",
       "      <th>heart_disease</th>\n",
       "      <th>bmi</th>\n",
       "      <th>HbA1c_level</th>\n",
       "      <th>blood_glucose_level</th>\n",
       "    </tr>\n",
       "  </thead>\n",
       "  <tbody>\n",
       "    <tr>\n",
       "      <th>0</th>\n",
       "      <td>80.0</td>\n",
       "      <td>0</td>\n",
       "      <td>1</td>\n",
       "      <td>25.19</td>\n",
       "      <td>6.6</td>\n",
       "      <td>140</td>\n",
       "    </tr>\n",
       "    <tr>\n",
       "      <th>1</th>\n",
       "      <td>54.0</td>\n",
       "      <td>0</td>\n",
       "      <td>0</td>\n",
       "      <td>27.32</td>\n",
       "      <td>6.6</td>\n",
       "      <td>80</td>\n",
       "    </tr>\n",
       "    <tr>\n",
       "      <th>2</th>\n",
       "      <td>28.0</td>\n",
       "      <td>0</td>\n",
       "      <td>0</td>\n",
       "      <td>27.32</td>\n",
       "      <td>5.7</td>\n",
       "      <td>158</td>\n",
       "    </tr>\n",
       "    <tr>\n",
       "      <th>3</th>\n",
       "      <td>36.0</td>\n",
       "      <td>0</td>\n",
       "      <td>0</td>\n",
       "      <td>23.45</td>\n",
       "      <td>5.0</td>\n",
       "      <td>155</td>\n",
       "    </tr>\n",
       "    <tr>\n",
       "      <th>4</th>\n",
       "      <td>76.0</td>\n",
       "      <td>1</td>\n",
       "      <td>1</td>\n",
       "      <td>20.14</td>\n",
       "      <td>4.8</td>\n",
       "      <td>155</td>\n",
       "    </tr>\n",
       "    <tr>\n",
       "      <th>...</th>\n",
       "      <td>...</td>\n",
       "      <td>...</td>\n",
       "      <td>...</td>\n",
       "      <td>...</td>\n",
       "      <td>...</td>\n",
       "      <td>...</td>\n",
       "    </tr>\n",
       "    <tr>\n",
       "      <th>99995</th>\n",
       "      <td>80.0</td>\n",
       "      <td>0</td>\n",
       "      <td>0</td>\n",
       "      <td>27.32</td>\n",
       "      <td>6.2</td>\n",
       "      <td>90</td>\n",
       "    </tr>\n",
       "    <tr>\n",
       "      <th>99996</th>\n",
       "      <td>2.0</td>\n",
       "      <td>0</td>\n",
       "      <td>0</td>\n",
       "      <td>17.37</td>\n",
       "      <td>6.5</td>\n",
       "      <td>100</td>\n",
       "    </tr>\n",
       "    <tr>\n",
       "      <th>99997</th>\n",
       "      <td>66.0</td>\n",
       "      <td>0</td>\n",
       "      <td>0</td>\n",
       "      <td>27.83</td>\n",
       "      <td>5.7</td>\n",
       "      <td>155</td>\n",
       "    </tr>\n",
       "    <tr>\n",
       "      <th>99998</th>\n",
       "      <td>24.0</td>\n",
       "      <td>0</td>\n",
       "      <td>0</td>\n",
       "      <td>35.42</td>\n",
       "      <td>4.0</td>\n",
       "      <td>100</td>\n",
       "    </tr>\n",
       "    <tr>\n",
       "      <th>99999</th>\n",
       "      <td>57.0</td>\n",
       "      <td>0</td>\n",
       "      <td>0</td>\n",
       "      <td>22.43</td>\n",
       "      <td>6.6</td>\n",
       "      <td>90</td>\n",
       "    </tr>\n",
       "  </tbody>\n",
       "</table>\n",
       "<p>100000 rows × 6 columns</p>\n",
       "</div>"
      ],
      "text/plain": [
       "        age  hypertension  heart_disease    bmi  HbA1c_level  \\\n",
       "0      80.0             0              1  25.19          6.6   \n",
       "1      54.0             0              0  27.32          6.6   \n",
       "2      28.0             0              0  27.32          5.7   \n",
       "3      36.0             0              0  23.45          5.0   \n",
       "4      76.0             1              1  20.14          4.8   \n",
       "...     ...           ...            ...    ...          ...   \n",
       "99995  80.0             0              0  27.32          6.2   \n",
       "99996   2.0             0              0  17.37          6.5   \n",
       "99997  66.0             0              0  27.83          5.7   \n",
       "99998  24.0             0              0  35.42          4.0   \n",
       "99999  57.0             0              0  22.43          6.6   \n",
       "\n",
       "       blood_glucose_level  \n",
       "0                      140  \n",
       "1                       80  \n",
       "2                      158  \n",
       "3                      155  \n",
       "4                      155  \n",
       "...                    ...  \n",
       "99995                   90  \n",
       "99996                  100  \n",
       "99997                  155  \n",
       "99998                  100  \n",
       "99999                   90  \n",
       "\n",
       "[100000 rows x 6 columns]"
      ]
     },
     "execution_count": 6,
     "metadata": {},
     "output_type": "execute_result"
    }
   ],
   "source": [
    "df1_ = df1.drop(['gender','smoking_history', 'diabetes'], axis=1, inplace=False)\n",
    "df1_"
   ]
  },
  {
   "cell_type": "code",
   "execution_count": 7,
   "id": "92878769",
   "metadata": {},
   "outputs": [
    {
     "data": {
      "text/html": [
       "<div>\n",
       "<style scoped>\n",
       "    .dataframe tbody tr th:only-of-type {\n",
       "        vertical-align: middle;\n",
       "    }\n",
       "\n",
       "    .dataframe tbody tr th {\n",
       "        vertical-align: top;\n",
       "    }\n",
       "\n",
       "    .dataframe thead th {\n",
       "        text-align: right;\n",
       "    }\n",
       "</style>\n",
       "<table border=\"1\" class=\"dataframe\">\n",
       "  <thead>\n",
       "    <tr style=\"text-align: right;\">\n",
       "      <th></th>\n",
       "      <th>age</th>\n",
       "      <th>hypertension</th>\n",
       "      <th>heart_disease</th>\n",
       "      <th>bmi</th>\n",
       "      <th>HbA1c_level</th>\n",
       "      <th>blood_glucose_level</th>\n",
       "    </tr>\n",
       "  </thead>\n",
       "  <tbody>\n",
       "    <tr>\n",
       "      <th>count</th>\n",
       "      <td>100000.000000</td>\n",
       "      <td>100000.00000</td>\n",
       "      <td>100000.000000</td>\n",
       "      <td>100000.000000</td>\n",
       "      <td>100000.000000</td>\n",
       "      <td>100000.000000</td>\n",
       "    </tr>\n",
       "    <tr>\n",
       "      <th>mean</th>\n",
       "      <td>41.885856</td>\n",
       "      <td>0.07485</td>\n",
       "      <td>0.039420</td>\n",
       "      <td>27.320767</td>\n",
       "      <td>5.527507</td>\n",
       "      <td>138.058060</td>\n",
       "    </tr>\n",
       "    <tr>\n",
       "      <th>std</th>\n",
       "      <td>22.516840</td>\n",
       "      <td>0.26315</td>\n",
       "      <td>0.194593</td>\n",
       "      <td>6.636783</td>\n",
       "      <td>1.070672</td>\n",
       "      <td>40.708136</td>\n",
       "    </tr>\n",
       "    <tr>\n",
       "      <th>min</th>\n",
       "      <td>0.080000</td>\n",
       "      <td>0.00000</td>\n",
       "      <td>0.000000</td>\n",
       "      <td>10.010000</td>\n",
       "      <td>3.500000</td>\n",
       "      <td>80.000000</td>\n",
       "    </tr>\n",
       "    <tr>\n",
       "      <th>25%</th>\n",
       "      <td>24.000000</td>\n",
       "      <td>0.00000</td>\n",
       "      <td>0.000000</td>\n",
       "      <td>23.630000</td>\n",
       "      <td>4.800000</td>\n",
       "      <td>100.000000</td>\n",
       "    </tr>\n",
       "    <tr>\n",
       "      <th>50%</th>\n",
       "      <td>43.000000</td>\n",
       "      <td>0.00000</td>\n",
       "      <td>0.000000</td>\n",
       "      <td>27.320000</td>\n",
       "      <td>5.800000</td>\n",
       "      <td>140.000000</td>\n",
       "    </tr>\n",
       "    <tr>\n",
       "      <th>75%</th>\n",
       "      <td>60.000000</td>\n",
       "      <td>0.00000</td>\n",
       "      <td>0.000000</td>\n",
       "      <td>29.580000</td>\n",
       "      <td>6.200000</td>\n",
       "      <td>159.000000</td>\n",
       "    </tr>\n",
       "    <tr>\n",
       "      <th>max</th>\n",
       "      <td>80.000000</td>\n",
       "      <td>1.00000</td>\n",
       "      <td>1.000000</td>\n",
       "      <td>95.690000</td>\n",
       "      <td>9.000000</td>\n",
       "      <td>300.000000</td>\n",
       "    </tr>\n",
       "  </tbody>\n",
       "</table>\n",
       "</div>"
      ],
      "text/plain": [
       "                 age  hypertension  heart_disease            bmi  \\\n",
       "count  100000.000000  100000.00000  100000.000000  100000.000000   \n",
       "mean       41.885856       0.07485       0.039420      27.320767   \n",
       "std        22.516840       0.26315       0.194593       6.636783   \n",
       "min         0.080000       0.00000       0.000000      10.010000   \n",
       "25%        24.000000       0.00000       0.000000      23.630000   \n",
       "50%        43.000000       0.00000       0.000000      27.320000   \n",
       "75%        60.000000       0.00000       0.000000      29.580000   \n",
       "max        80.000000       1.00000       1.000000      95.690000   \n",
       "\n",
       "         HbA1c_level  blood_glucose_level  \n",
       "count  100000.000000        100000.000000  \n",
       "mean        5.527507           138.058060  \n",
       "std         1.070672            40.708136  \n",
       "min         3.500000            80.000000  \n",
       "25%         4.800000           100.000000  \n",
       "50%         5.800000           140.000000  \n",
       "75%         6.200000           159.000000  \n",
       "max         9.000000           300.000000  "
      ]
     },
     "execution_count": 7,
     "metadata": {},
     "output_type": "execute_result"
    }
   ],
   "source": [
    "df1_.describe(include='all')"
   ]
  },
  {
   "cell_type": "markdown",
   "id": "88cd1d5a",
   "metadata": {},
   "source": [
    "Посмотрим на количественное соотношение классов"
   ]
  },
  {
   "cell_type": "code",
   "execution_count": 8,
   "id": "56fe5ade",
   "metadata": {},
   "outputs": [
    {
     "data": {
      "text/plain": [
       "diabetes\n",
       "0    91500\n",
       "1     8500\n",
       "Name: count, dtype: int64"
      ]
     },
     "execution_count": 8,
     "metadata": {},
     "output_type": "execute_result"
    }
   ],
   "source": [
    "df1['diabetes'].value_counts()"
   ]
  },
  {
   "cell_type": "markdown",
   "id": "e67e929b",
   "metadata": {},
   "source": [
    "Наблюдается сильный дисбаланс классов, это может отразиться на результатах точности классификатора."
   ]
  },
  {
   "cell_type": "markdown",
   "id": "a356af65",
   "metadata": {},
   "source": [
    "Категориальные признаки в наборе данных отсуствуют, поэтому перекодировку необходимости делать нет."
   ]
  },
  {
   "cell_type": "markdown",
   "id": "9f5aac51",
   "metadata": {},
   "source": [
    "**Выполним разбиение на тестовую и тренировочную выборки**"
   ]
  },
  {
   "cell_type": "code",
   "execution_count": 9,
   "id": "35014cf8",
   "metadata": {},
   "outputs": [],
   "source": [
    "X, y = df1_, df1['diabetes']\n",
    "\n",
    "X_train, X_test, y_train, y_test = train_test_split(X, y, stratify=y, train_size=0.75, random_state=42)"
   ]
  },
  {
   "cell_type": "code",
   "execution_count": 10,
   "id": "a32a001d",
   "metadata": {},
   "outputs": [
    {
     "name": "stdout",
     "output_type": "stream",
     "text": [
      "X_train shape: (75000, 6)\n",
      "y_train shape: (75000,)\n",
      "X_test shape: (25000, 6)\n",
      "y_test shape: (25000,)\n"
     ]
    }
   ],
   "source": [
    "print(f\"X_train shape: {X_train.shape}\")\n",
    "print(f\"y_train shape: {y_train.shape}\")\n",
    "print(f\"X_test shape: {X_test.shape}\")\n",
    "print(f\"y_test shape: {y_test.shape}\")"
   ]
  },
  {
   "cell_type": "code",
   "execution_count": 11,
   "id": "99b1aa55",
   "metadata": {},
   "outputs": [
    {
     "data": {
      "text/html": [
       "<style>#sk-container-id-1 {color: black;}#sk-container-id-1 pre{padding: 0;}#sk-container-id-1 div.sk-toggleable {background-color: white;}#sk-container-id-1 label.sk-toggleable__label {cursor: pointer;display: block;width: 100%;margin-bottom: 0;padding: 0.3em;box-sizing: border-box;text-align: center;}#sk-container-id-1 label.sk-toggleable__label-arrow:before {content: \"▸\";float: left;margin-right: 0.25em;color: #696969;}#sk-container-id-1 label.sk-toggleable__label-arrow:hover:before {color: black;}#sk-container-id-1 div.sk-estimator:hover label.sk-toggleable__label-arrow:before {color: black;}#sk-container-id-1 div.sk-toggleable__content {max-height: 0;max-width: 0;overflow: hidden;text-align: left;background-color: #f0f8ff;}#sk-container-id-1 div.sk-toggleable__content pre {margin: 0.2em;color: black;border-radius: 0.25em;background-color: #f0f8ff;}#sk-container-id-1 input.sk-toggleable__control:checked~div.sk-toggleable__content {max-height: 200px;max-width: 100%;overflow: auto;}#sk-container-id-1 input.sk-toggleable__control:checked~label.sk-toggleable__label-arrow:before {content: \"▾\";}#sk-container-id-1 div.sk-estimator input.sk-toggleable__control:checked~label.sk-toggleable__label {background-color: #d4ebff;}#sk-container-id-1 div.sk-label input.sk-toggleable__control:checked~label.sk-toggleable__label {background-color: #d4ebff;}#sk-container-id-1 input.sk-hidden--visually {border: 0;clip: rect(1px 1px 1px 1px);clip: rect(1px, 1px, 1px, 1px);height: 1px;margin: -1px;overflow: hidden;padding: 0;position: absolute;width: 1px;}#sk-container-id-1 div.sk-estimator {font-family: monospace;background-color: #f0f8ff;border: 1px dotted black;border-radius: 0.25em;box-sizing: border-box;margin-bottom: 0.5em;}#sk-container-id-1 div.sk-estimator:hover {background-color: #d4ebff;}#sk-container-id-1 div.sk-parallel-item::after {content: \"\";width: 100%;border-bottom: 1px solid gray;flex-grow: 1;}#sk-container-id-1 div.sk-label:hover label.sk-toggleable__label {background-color: #d4ebff;}#sk-container-id-1 div.sk-serial::before {content: \"\";position: absolute;border-left: 1px solid gray;box-sizing: border-box;top: 0;bottom: 0;left: 50%;z-index: 0;}#sk-container-id-1 div.sk-serial {display: flex;flex-direction: column;align-items: center;background-color: white;padding-right: 0.2em;padding-left: 0.2em;position: relative;}#sk-container-id-1 div.sk-item {position: relative;z-index: 1;}#sk-container-id-1 div.sk-parallel {display: flex;align-items: stretch;justify-content: center;background-color: white;position: relative;}#sk-container-id-1 div.sk-item::before, #sk-container-id-1 div.sk-parallel-item::before {content: \"\";position: absolute;border-left: 1px solid gray;box-sizing: border-box;top: 0;bottom: 0;left: 50%;z-index: -1;}#sk-container-id-1 div.sk-parallel-item {display: flex;flex-direction: column;z-index: 1;position: relative;background-color: white;}#sk-container-id-1 div.sk-parallel-item:first-child::after {align-self: flex-end;width: 50%;}#sk-container-id-1 div.sk-parallel-item:last-child::after {align-self: flex-start;width: 50%;}#sk-container-id-1 div.sk-parallel-item:only-child::after {width: 0;}#sk-container-id-1 div.sk-dashed-wrapped {border: 1px dashed gray;margin: 0 0.4em 0.5em 0.4em;box-sizing: border-box;padding-bottom: 0.4em;background-color: white;}#sk-container-id-1 div.sk-label label {font-family: monospace;font-weight: bold;display: inline-block;line-height: 1.2em;}#sk-container-id-1 div.sk-label-container {text-align: center;}#sk-container-id-1 div.sk-container {/* jupyter's `normalize.less` sets `[hidden] { display: none; }` but bootstrap.min.css set `[hidden] { display: none !important; }` so we also need the `!important` here to be able to override the default hidden behavior on the sphinx rendered scikit-learn.org. See: https://github.com/scikit-learn/scikit-learn/issues/21755 */display: inline-block !important;position: relative;}#sk-container-id-1 div.sk-text-repr-fallback {display: none;}</style><div id=\"sk-container-id-1\" class=\"sk-top-container\"><div class=\"sk-text-repr-fallback\"><pre>KNeighborsClassifier(n_neighbors=2)</pre><b>In a Jupyter environment, please rerun this cell to show the HTML representation or trust the notebook. <br />On GitHub, the HTML representation is unable to render, please try loading this page with nbviewer.org.</b></div><div class=\"sk-container\" hidden><div class=\"sk-item\"><div class=\"sk-estimator sk-toggleable\"><input class=\"sk-toggleable__control sk-hidden--visually\" id=\"sk-estimator-id-1\" type=\"checkbox\" checked><label for=\"sk-estimator-id-1\" class=\"sk-toggleable__label sk-toggleable__label-arrow\">KNeighborsClassifier</label><div class=\"sk-toggleable__content\"><pre>KNeighborsClassifier(n_neighbors=2)</pre></div></div></div></div></div>"
      ],
      "text/plain": [
       "KNeighborsClassifier(n_neighbors=2)"
      ]
     },
     "execution_count": 11,
     "metadata": {},
     "output_type": "execute_result"
    }
   ],
   "source": [
    "model_knn = KNeighborsClassifier(n_neighbors=2)\n",
    "model_knn.fit(X_train, y_train)"
   ]
  },
  {
   "cell_type": "code",
   "execution_count": 15,
   "id": "95411ab7",
   "metadata": {},
   "outputs": [
    {
     "data": {
      "text/plain": [
       "pandas.core.frame.DataFrame"
      ]
     },
     "execution_count": 15,
     "metadata": {},
     "output_type": "execute_result"
    }
   ],
   "source": [
    "type(X_test)"
   ]
  },
  {
   "cell_type": "markdown",
   "id": "a8caccf5",
   "metadata": {},
   "source": [
    "**Расчет метрик качества классификации**"
   ]
  },
  {
   "cell_type": "code",
   "execution_count": 12,
   "id": "0458527b",
   "metadata": {},
   "outputs": [
    {
     "name": "stdout",
     "output_type": "stream",
     "text": [
      "Accuracy:  0.95456\n",
      "Precision:  0.8984689766317486\n",
      "Recall:  0.5247058823529411\n",
      "f_measure:  0.6625074272133096\n",
      "Classification Report: \n",
      "               precision    recall  f1-score   support\n",
      "\n",
      "           0       0.96      0.99      0.98     22875\n",
      "           1       0.90      0.52      0.66      2125\n",
      "\n",
      "    accuracy                           0.95     25000\n",
      "   macro avg       0.93      0.76      0.82     25000\n",
      "weighted avg       0.95      0.95      0.95     25000\n",
      "\n"
     ]
    }
   ],
   "source": [
    "y_pred = model_knn.predict(X_test)\n",
    "acc_1 =accuracy_score(y_pred, y_test) \n",
    "precision_1 = precision_score(y_test, y_pred)\n",
    "rec_1 = recall_score(y_test, y_pred)\n",
    "f_measure_1 = f1_score(y_test, y_pred)\n",
    "cl_rep_1 = classification_report(y_test, y_pred)\n",
    "\n",
    "print('Accuracy: ', acc_1)\n",
    "print('Precision: ', precision_1)\n",
    "print('Recall: ', rec_1)\n",
    "print('f_measure: ', f_measure_1)\n",
    "\n",
    "print(f\"Classification Report: \\n {cl_rep_1}\")"
   ]
  },
  {
   "cell_type": "markdown",
   "id": "7e157deb",
   "metadata": {},
   "source": [
    "По данным результатам, можно сказать, что 96% предсказанных случаев отсутсвия диабета были верными (precision для класса 0 - 0.96), при наличии диабета правильно предсказанными оказались 90% (precision для класса 1 - 0.9). 99% из всех истинных случаев отсуствия диабета были предсказаны верно (recall для класса 0 - 0.99), 52% из всех истинных случаев наличия диабета были предсказаны верно (recall для класса 1 - 0.52). Такой результат можно объяснить дисбалансом классов. Класс 0 - отсутсвие джиабета количественно превышает класс1 - наличие диабета практически в 10 раз."
   ]
  },
  {
   "cell_type": "markdown",
   "id": "7e1d15a1",
   "metadata": {},
   "source": [
    "**Нормализация данных**"
   ]
  },
  {
   "cell_type": "code",
   "execution_count": null,
   "id": "e6845411",
   "metadata": {},
   "outputs": [],
   "source": [
    "df1_.describe().T"
   ]
  },
  {
   "cell_type": "markdown",
   "id": "becee4c3",
   "metadata": {},
   "source": [
    "Проведем нормализацию, поскольку некоторые признаки находястя в разных диапазонах, например имт (bmi) имеет среднее 27.32, а уровень глюкозы в крови (blood_glucose_level) - 138. "
   ]
  },
  {
   "cell_type": "code",
   "execution_count": null,
   "id": "35897f70",
   "metadata": {},
   "outputs": [],
   "source": [
    "all_cols = list(df1_.columns)\n",
    "mm_scaler = MinMaxScaler()\n",
    "features_scaled = mm_scaler.fit_transform(df1_[all_cols])\n",
    "df1_scaled = pd.DataFrame(features_scaled, columns=all_cols)\n",
    "df1_scaled"
   ]
  },
  {
   "cell_type": "code",
   "execution_count": null,
   "id": "a30ad644",
   "metadata": {},
   "outputs": [],
   "source": [
    "df1_scaled.describe().T"
   ]
  },
  {
   "cell_type": "markdown",
   "id": "de642fe9",
   "metadata": {},
   "source": [
    "Нормализация прошла успешно! "
   ]
  },
  {
   "cell_type": "markdown",
   "id": "4d2cf5fb",
   "metadata": {},
   "source": [
    "**Выполним классификацию и оценим результаты модели на нормализованных данных**"
   ]
  },
  {
   "cell_type": "code",
   "execution_count": null,
   "id": "f78e07d1",
   "metadata": {},
   "outputs": [],
   "source": [
    "X_sc, y_sc = df1_scaled, df1['diabetes']\n",
    "\n",
    "X_train_sc, X_test_sc, y_train_sc, y_test_sc = train_test_split(X_sc, y_sc, stratify=y_sc, train_size=0.75, random_state=42)"
   ]
  },
  {
   "cell_type": "code",
   "execution_count": null,
   "id": "d62ea5e8",
   "metadata": {},
   "outputs": [],
   "source": [
    "model_knn_sc = KNeighborsClassifier(n_neighbors=2)\n",
    "model_knn_sc.fit(X_train_sc, y_train_sc)"
   ]
  },
  {
   "cell_type": "code",
   "execution_count": null,
   "id": "64942d32",
   "metadata": {},
   "outputs": [],
   "source": [
    "y_pred_sc = model_knn_sc.predict(X_test_sc)\n",
    "acc_1_sc =accuracy_score(y_pred_sc, y_test_sc) \n",
    "precision_1_sc = precision_score(y_test_sc, y_pred_sc)\n",
    "rec_1_sc = recall_score(y_test_sc, y_pred_sc)\n",
    "f_measure_1_sc = f1_score(y_test_sc, y_pred_sc)\n",
    "cl_rep_1_sc = classification_report(y_test_sc, y_pred_sc)\n",
    "\n",
    "print('Accuracy с нормализ. данными: ', acc_1_sc)\n",
    "print('Precision с нормализ. данными: ', precision_1_sc)\n",
    "print('Recall с нормализ. данными: ', rec_1_sc)\n",
    "print('f_measure с нормализ. данными: ', f_measure_1_sc)\n",
    "\n",
    "print(f\"Classification Report с нормализ. данными: \\n {cl_rep_1_sc}\")"
   ]
  },
  {
   "cell_type": "markdown",
   "id": "da08a682",
   "metadata": {},
   "source": [
    "Если сравнивать с результатами классификации на ненормализованных данных, то метрики качества стали лучше. Общие значения accuracy, precision, recall, f_measure стали больше. Как и в целом показатели качества классификации отдельно для класса 0 и для класса 1. "
   ]
  },
  {
   "cell_type": "markdown",
   "id": "d1bdb97d",
   "metadata": {},
   "source": [
    "**Построим матрицу корреляции нормализованных признаков**"
   ]
  },
  {
   "cell_type": "code",
   "execution_count": null,
   "id": "8a90cdba",
   "metadata": {},
   "outputs": [],
   "source": [
    "fig, ax = plt.subplots(figsize=(7, 7))\n",
    "plt.title('Матрица корреляции признаков для датасета \"diabetes\"')\n",
    "cmap = sns.diverging_palette(240, 0, s=70, l=80, as_cmap=True)\n",
    "ax_sns = sns.heatmap(ax = ax, data=df1_scaled.corr(), cmap=sns.cubehelix_palette(as_cmap=True), square=True, annot=True, fmt='.2f', linecolor='white')\n",
    "ax_sns.set_xticklabels(ax_sns.get_xticklabels(), rotation=45)\n",
    "ax_sns.set_yticklabels(ax_sns.get_yticklabels(), rotation=0)\n",
    "plt.subplots_adjust(bottom=0.15)\n",
    "plt.show()"
   ]
  },
  {
   "cell_type": "markdown",
   "id": "889e0b9a",
   "metadata": {},
   "source": [
    "Думаю, что признаков не так много, чтобы можно было делать какую-то \"специальную сортировку\". Поэтому выберу признаки, исходя из своих представлений. Из данной матрицы наиболее коррелированы друг с другом признаки \"age\" и \"bmi\" (хотя эту корреляцию сложно назвать корреляцией, поскольку значение меньше 0.6; возраст и имт действительно слабы связаны друг с другом, можно сделать лишь поправку на то, что к старости люди полнеют). Наиболее значимыми считаются рпизнаки, которые менее всего коррелируют друг с другуом, поскольку такие признаки будут более широко отражать информацию о данных. Поэтому выберем признаки с наименьшей корреляцией. Это будут признаки \"heart_disease\", \"HbA1c_level\", \"blood_glucose_level\"."
   ]
  },
  {
   "cell_type": "markdown",
   "id": "f28a40cd",
   "metadata": {},
   "source": [
    "*Попробуем выполнить \"вычисление\" наиболее значимых признаков*"
   ]
  },
  {
   "attachments": {
    "image.png": {
     "image/png": "[encoded data removed]"
    }
   },
   "cell_type": "markdown",
   "id": "abd34ea7",
   "metadata": {},
   "source": [
    "![image.png](attachment:image.png)"
   ]
  },
  {
   "cell_type": "code",
   "execution_count": null,
   "id": "8fb465e2",
   "metadata": {},
   "outputs": [],
   "source": [
    "corr_matrix = df1_scaled.corr().abs()\n",
    "np.fill_diagonal(corr_matrix.values, 0)\n",
    "\n",
    "T_corr = 0.1 #Порог корреляции \n",
    "filtered_corr = corr_matrix[corr_matrix < T_corr] #Отфильтровка абсолютных значений корреляции по порогу\n",
    "feature_importance = filtered_corr.sum() #Группировка отфильтрованных значений и вычисление их суммы\n",
    "feature_importance_sorted = feature_importance.sort_values(ascending=False) #Сортировка значений по убыванию\n",
    "T_filter = 0.18 #Задание значения порога фильтрации\n",
    "selected_features = feature_importance_sorted[feature_importance_sorted > T_filter].index.tolist() #Получение списка признаков, прошедших фильтрацию"
   ]
  },
  {
   "cell_type": "code",
   "execution_count": null,
   "id": "dbc08137",
   "metadata": {},
   "outputs": [],
   "source": [
    "print(feature_importance_sorted)"
   ]
  },
  {
   "cell_type": "code",
   "execution_count": null,
   "id": "7c1adefc",
   "metadata": {},
   "outputs": [],
   "source": [
    "print(selected_features)"
   ]
  },
  {
   "cell_type": "markdown",
   "id": "51c0258f",
   "metadata": {},
   "source": [
    "Попробуем для дальнейшего анализа использовать выбранные признаки (хотя этот датасет маленький и тут все признаки не коррелируют друг с другом, что и так должно давать удовлетворительные результаты). \n",
    "\n",
    "**Бинарная классификация с отобранными признакми**"
   ]
  },
  {
   "cell_type": "code",
   "execution_count": null,
   "id": "2165d35b",
   "metadata": {},
   "outputs": [],
   "source": [
    "x_sort = df1_scaled[['blood_glucose_level', 'bmi', 'HbA1c_level', 'heart_disease']]"
   ]
  },
  {
   "cell_type": "code",
   "execution_count": null,
   "id": "a3f1bd10",
   "metadata": {},
   "outputs": [],
   "source": [
    "X_sort, y_sort = x_sort, df1['diabetes']\n",
    "\n",
    "X_train_sort, X_test_sort, y_train_sort, y_test_sort = train_test_split(X_sort, y_sort, stratify=y_sort, train_size=0.75, random_state=42)"
   ]
  },
  {
   "cell_type": "code",
   "execution_count": null,
   "id": "281a4ca7",
   "metadata": {},
   "outputs": [],
   "source": [
    "model_knn_sort = KNeighborsClassifier(n_neighbors=2)\n",
    "model_knn_sort.fit(X_train_sort, y_train_sort)"
   ]
  },
  {
   "cell_type": "code",
   "execution_count": null,
   "id": "dc493bbd",
   "metadata": {},
   "outputs": [],
   "source": [
    "y_pred_sort = model_knn_sort.predict(X_test_sort)\n",
    "acc_1_sort =accuracy_score(y_pred_sort, y_test_sort) \n",
    "precision_1_sort = precision_score(y_test_sort, y_pred_sort)\n",
    "rec_1_sort = recall_score(y_test_sort, y_pred_sort)\n",
    "f_measure_1_sort = f1_score(y_test_sort, y_pred_sort)\n",
    "cl_rep_1_sort = classification_report(y_test_sort, y_pred_sort)\n",
    "\n",
    "print('Accuracy при отобранных признаках: ', acc_1_sort)\n",
    "print('Precision при отобранных признаках: ', precision_1_sort)\n",
    "print('Recall при отобранных признаках: ', rec_1_sort)\n",
    "print('f_measure при отобранных признаках: ', f_measure_1_sort)\n",
    "\n",
    "print(f\"Classification Report при отобранных признаках: \\n {cl_rep_1_sort}\")"
   ]
  },
  {
   "cell_type": "markdown",
   "id": "2e390949",
   "metadata": {},
   "source": [
    "Если сравнивать с результатами, полученными при использовании всех нормализованных признаков, то нельзя сказать, что результат стал намного лучше. Это объясняется тем, что изначально присутсвовали все признаки с маленьким коэффициентом корреляции друг с другом, скоращение списка этих признаков привело к уменьшению полезной информации для классификации диабета. Из положительных изменений - увеличилась метрика Accuracy как в общем показателе, так и для предсказания класса 1. Но для класса 1 уменьшились другие метрики, такие как recall и f_measure, что свидетельствует об уменьшении способности модели классифицировать истинные случаи диабета, также чаще происходят ошибки первого и второго рода. "
   ]
  },
  {
   "cell_type": "markdown",
   "id": "da7c8047",
   "metadata": {},
   "source": [
    "**Перебрать значения гиперпараметра k в каком-нибудь диапазоне с использованием кросс-валидации на данных**"
   ]
  },
  {
   "attachments": {
    "image.png": {
     "image/png": "[encoded data removed]"
    }
   },
   "cell_type": "markdown",
   "id": "a38f1a31",
   "metadata": {},
   "source": [
    "![image.png](attachment:image.png)"
   ]
  },
  {
   "cell_type": "markdown",
   "id": "28de6f1d",
   "metadata": {},
   "source": [
    "По заданию не очень понятно, на каких данных нужно выполнять кросс-валидацию, я выполнила на нормализованных данных после отбора признаков. "
   ]
  },
  {
   "cell_type": "code",
   "execution_count": null,
   "id": "66091927",
   "metadata": {},
   "outputs": [],
   "source": [
    "train_score = []\n",
    "test_score = []\n",
    "crossval_score = []\n",
    "\n",
    "for k in range(1, 16):\n",
    "    clf = KNeighborsClassifier(n_neighbors = k)\n",
    "    scores = cross_val_score(clf, X_sort, y_sort, cv = StratifiedKFold(10))\n",
    "    print(f\"Neighbors: {k}, stratified folds count: 10 avg score: {scores.mean()}\")\n",
    "    crossval_score.append(scores.mean())\n",
    "    clf.fit(X_train_sort, y_train_sort)\n",
    "    pred_train = clf.predict(X_train_sort)\n",
    "    pred_test = clf.predict(X_test_sort)\n",
    "\n",
    "    train_score.append(accuracy_score(y_train_sort, pred_train))\n",
    "    test_score.append(accuracy_score(y_test_sort, pred_test))"
   ]
  },
  {
   "cell_type": "code",
   "execution_count": null,
   "id": "8a8c25ae",
   "metadata": {},
   "outputs": [],
   "source": [
    "fig, ax = plt.subplots(figsize=(9, 5))\n",
    "ax.plot(range(1, 16), train_score, label=\"train accuracy\")\n",
    "ax.plot(range(1, 16), test_score, label=\"test accuracy\")\n",
    "ax.set_ylabel(\"Accuracy\")\n",
    "ax.set_xlabel(\"Neighbors count\")\n",
    "ax.set_xticks(range(1, 16))\n",
    "ax.legend()"
   ]
  },
  {
   "cell_type": "markdown",
   "id": "a5d52312",
   "metadata": {},
   "source": [
    "Для кросс валидации использовался метод `StratifiedKFold`- стратифицированная перекрестная проверка, в которой данные разбиваются с учетом балансирования классов. Отдельно был построен график изменения точности при разном гиперпараметре k - количества соседей в классификаторе. "
   ]
  },
  {
   "cell_type": "markdown",
   "id": "5f7eb6bf",
   "metadata": {},
   "source": [
    "<h3><center>Многоклассовая классификация</center></h3>"
   ]
  },
  {
   "cell_type": "code",
   "execution_count": null,
   "id": "67209a0b",
   "metadata": {},
   "outputs": [],
   "source": [
    "from sklearn.datasets import load_wine"
   ]
  },
  {
   "cell_type": "code",
   "execution_count": null,
   "id": "b7b2170b",
   "metadata": {},
   "outputs": [],
   "source": [
    "wine_data = load_wine()\n",
    "\n",
    "df2 = pd.DataFrame(data=wine_data.data, columns=wine_data.feature_names)\n",
    "df2['target'] = wine_data.target\n"
   ]
  },
  {
   "cell_type": "code",
   "execution_count": null,
   "id": "1b7273d4",
   "metadata": {},
   "outputs": [],
   "source": [
    "df2"
   ]
  },
  {
   "cell_type": "markdown",
   "id": "a8f9e3b2",
   "metadata": {},
   "source": [
    "Для многоклассовой классификации будет использоваться набор данных распознавания вина. \n",
    "\n",
    "Данные являются результатами химического анализа вин, выращенных в одном и том же месте в Италии тремя разными культиваторами. Существует тринадцать различных параметров, которые были измерены для трех типов вин (класс 0, класс 1, класс 2).\n",
    "\n",
    "Ссылка на датасет: https://scikit-learn.org/stable/datasets/toy_dataset.html#wine-recognition-dataset\n",
    "        \n",
    "|       Признак                |       Расшифровка               |\n",
    "|------------------------------|---------------------------------|\n",
    "| Alcohol                      | Алкоголь                        |\n",
    "| Malic_acid                   | Яблочная кислота                | \n",
    "| Ash                          | Зола                            | \n",
    "| Alcalinity_of_ash            | Щелочность золы                 | \n",
    "| Magnesium                    | Магний                          |\n",
    "| Total_phenols                | Всего фенолов                   |\n",
    "| Flavanoids                   | Флавоноиды                      | \n",
    "| Nonflavanoid_phenols         | Нефлавоноидные фенолы           |\n",
    "| Proanthocyanins              | Проантоцианы                    | \n",
    "| Color_intensity              | Интенсивность цвета             |\n",
    "| Hue                          | Оттенок                         |\n",
    "| Od280/od315_of_diluted_wines | OD280/OD315 для разбавленных вин|\n",
    "| Proline                      | Пролин                          |"
   ]
  },
  {
   "cell_type": "code",
   "execution_count": null,
   "id": "b61140f8",
   "metadata": {},
   "outputs": [],
   "source": [
    "df2.info()"
   ]
  },
  {
   "cell_type": "markdown",
   "id": "e875f98a",
   "metadata": {},
   "source": [
    "Все данные в датасете количественные."
   ]
  },
  {
   "cell_type": "code",
   "execution_count": null,
   "id": "1d097e21",
   "metadata": {},
   "outputs": [],
   "source": [
    "df2.describe()"
   ]
  },
  {
   "cell_type": "markdown",
   "id": "214790b7",
   "metadata": {},
   "source": [
    "**Предобработка данных**"
   ]
  },
  {
   "cell_type": "code",
   "execution_count": null,
   "id": "4276b730",
   "metadata": {},
   "outputs": [],
   "source": [
    "df2.isnull().sum()"
   ]
  },
  {
   "cell_type": "markdown",
   "id": "f4e66fc1",
   "metadata": {},
   "source": [
    "Видно, что в датасете нет \"non-null\" значений. Исключать пока что никакие признаки не будем, выполним это на этапе построения матрицы корреляции."
   ]
  },
  {
   "cell_type": "code",
   "execution_count": null,
   "id": "7adb2e94",
   "metadata": {},
   "outputs": [],
   "source": [
    "df2['target'].value_counts()"
   ]
  },
  {
   "cell_type": "markdown",
   "id": "0e8e2eba",
   "metadata": {},
   "source": [
    "**Выполним нормализацию данных**"
   ]
  },
  {
   "cell_type": "code",
   "execution_count": null,
   "id": "0729dae9",
   "metadata": {},
   "outputs": [],
   "source": [
    "#Убираем target\n",
    "df2_ = df2.drop(['target'], axis=1, inplace=False)\n",
    "df2_"
   ]
  },
  {
   "cell_type": "code",
   "execution_count": null,
   "id": "385c0ab6",
   "metadata": {},
   "outputs": [],
   "source": [
    "all_cols2 = list(df2_.columns)\n",
    "mm_scaler2 = MinMaxScaler()\n",
    "features_scaled2 = mm_scaler2.fit_transform(df2_[all_cols2])\n",
    "df2_scaled = pd.DataFrame(features_scaled2, columns=all_cols2)\n",
    "df2_scaled"
   ]
  },
  {
   "cell_type": "code",
   "execution_count": null,
   "id": "28cfab1e",
   "metadata": {},
   "outputs": [],
   "source": [
    "fig, ax = plt.subplots(figsize=(10, 7.5))\n",
    "sns.boxenplot(data = df2_scaled, ax = ax)\n",
    "plt.subplots_adjust(bottom=0.2)\n",
    "plt.xticks(rotation=90)\n",
    "plt.show()"
   ]
  },
  {
   "cell_type": "markdown",
   "id": "c4c9c944",
   "metadata": {},
   "source": [
    "**Выполним классификацию на нормализованных данных**"
   ]
  },
  {
   "cell_type": "code",
   "execution_count": null,
   "id": "186b804e",
   "metadata": {},
   "outputs": [],
   "source": [
    "X_2, y_2 = df2_scaled, df2['target']\n",
    "\n",
    "X_train_2, X_test_2, y_train_2, y_test_2 = train_test_split(X_2, y_2, stratify=y_2, train_size=0.75, random_state=42)"
   ]
  },
  {
   "cell_type": "code",
   "execution_count": null,
   "id": "e7aad566",
   "metadata": {},
   "outputs": [],
   "source": [
    "model_knn_2 = KNeighborsClassifier(n_neighbors=3)\n",
    "model_knn_2.fit(X_train_2, y_train_2)"
   ]
  },
  {
   "cell_type": "code",
   "execution_count": null,
   "id": "4afd4538",
   "metadata": {},
   "outputs": [],
   "source": [
    "y_pred_2 = model_knn_2.predict(X_test_2)\n",
    "acc_2 =accuracy_score(y_pred_2, y_test_2) \n",
    "precision_2 = precision_score(y_test_2, y_pred_2, average='weighted')\n",
    "rec_2 = recall_score(y_test_2, y_pred_2, average='weighted')\n",
    "f_measure_2 = f1_score(y_test_2, y_pred_2, average='weighted')\n",
    "cl_rep_2 = classification_report(y_test_2, y_pred_2)\n",
    "\n",
    "print('Accuracy с нормализ. данными: ', acc_2)\n",
    "print('Precision с нормализ. данными: ', precision_2)\n",
    "print('Recall с нормализ. данными: ', rec_2)\n",
    "print('f_measure с нормализ. данными: ', f_measure_2)\n",
    "\n",
    "print(f\"Classification Report с нормализ. данными: \\n {cl_rep_2}\")"
   ]
  },
  {
   "cell_type": "markdown",
   "id": "16aa7d3f",
   "metadata": {},
   "source": [
    "**Построим матрицу корреляции нормализованных признаков**"
   ]
  },
  {
   "cell_type": "code",
   "execution_count": null,
   "id": "59992c47",
   "metadata": {},
   "outputs": [],
   "source": [
    "fig, ax = plt.subplots(figsize=(10, 10))\n",
    "plt.title('Матрица корреляции признаков для датасета \"wine\"')\n",
    "cmap = sns.diverging_palette(240, 0, s=70, l=80, as_cmap=True)\n",
    "ax_sns = sns.heatmap(ax = ax, data=df2_scaled.corr(), cmap=sns.cubehelix_palette(as_cmap=True), square=True, annot=True, fmt='.2f', linecolor='white')\n",
    "ax_sns.set_xticklabels(ax_sns.get_xticklabels(), rotation=45)\n",
    "ax_sns.set_yticklabels(ax_sns.get_yticklabels(), rotation=0)\n",
    "plt.subplots_adjust(bottom=0.15)\n",
    "plt.show()"
   ]
  },
  {
   "cell_type": "markdown",
   "id": "a7c80381",
   "metadata": {},
   "source": [
    "Из корреляционной матрицы видно, что наиболее коррелирующие между собой признаки: \n",
    "- \"flavanoids\" и \"total_phenols\";\n",
    "- \"total_phenols\" и \"proanthocyanins\";\n",
    "- \"flavanoids\" и \"proanthocyanins\";\n",
    "- \"od280/od315_of_diluted_wines\" и \"total_phenols\"; \n",
    "- \"od280/od315_of_diluted_wines\" и \"flavanoids\"; \n",
    "- \"alcohol\" и \"proline\". \n",
    "\n",
    "Можно убрать признаки: \"proline\", \"flavanoids\" и \"total_phenols\". Отсавшиеся признаки будут иметь меньший коэффициент корреляции, следовательно, будут более значимыми для классифкации. \n",
    "\n",
    "Выполним \"расчет\" наиболее значимых признаков: "
   ]
  },
  {
   "cell_type": "code",
   "execution_count": null,
   "id": "4b0b5125",
   "metadata": {},
   "outputs": [],
   "source": [
    "corr_matrix_ = df2_scaled.corr().abs()\n",
    "np.fill_diagonal(corr_matrix_.values, 0)\n",
    "\n",
    "T_corr_2 = 0.5 #Порог корреляции \n",
    "filtered_corr_ = corr_matrix_[corr_matrix_ < T_corr_2] #Отфильтровка абсолютных значений корреляции по порогу\n",
    "feature_importance_ = filtered_corr_.sum() #Группировка отфильтрованных значений и вычисление их суммы\n",
    "feature_importance_sorted_ = feature_importance_.sort_values(ascending=False) #Сортировка значений по убыванию\n",
    "T_filter_2 = 1.85 #Задание значения порога фильтрации\n",
    "selected_features_ = feature_importance_sorted_[feature_importance_sorted_ > T_filter_2].index.tolist() #Получение списка признаков, прошедших фильтрацию"
   ]
  },
  {
   "cell_type": "code",
   "execution_count": null,
   "id": "dc2c061c",
   "metadata": {},
   "outputs": [],
   "source": [
    "print(selected_features_)"
   ]
  },
  {
   "cell_type": "markdown",
   "id": "c30dc044",
   "metadata": {},
   "source": [
    "Попробуем выполнить классификацию и по выборке признаков, что была выполнена по корреляционной матрице \"на глаз\", и по выборке признаков, что были получены при помощи расчетов."
   ]
  },
  {
   "cell_type": "code",
   "execution_count": null,
   "id": "07d8483d",
   "metadata": {},
   "outputs": [],
   "source": [
    "df2_sort_1 = df2_scaled.drop([\"proline\", \"flavanoids\", \"total_phenols\"], axis=1, inplace=False)\n",
    "df2_sort_2 = df2_scaled[['proline', 'alcalinity_of_ash', 'nonflavanoid_phenols', 'total_phenols', 'malic_acid', 'magnesium', 'ash', 'flavanoids', 'color_intensity']]"
   ]
  },
  {
   "cell_type": "code",
   "execution_count": null,
   "id": "cc1c424d",
   "metadata": {},
   "outputs": [],
   "source": [
    "df2_sort_1"
   ]
  },
  {
   "cell_type": "code",
   "execution_count": null,
   "id": "7e566ac9",
   "metadata": {},
   "outputs": [],
   "source": [
    "df2_sort_2"
   ]
  },
  {
   "cell_type": "code",
   "execution_count": null,
   "id": "73a83dbb",
   "metadata": {},
   "outputs": [],
   "source": [
    "X_2_sort1, y_2_sort1 = df2_sort_1, df2['target']\n",
    "\n",
    "X_train_2_sort1, X_test_2_sort1, y_train_2_sort1, y_test_2_sort1 = train_test_split(X_2_sort1, y_2_sort1, \n",
    "                                                                                    stratify=y_2_sort1, train_size=0.75, \n",
    "                                                                                    random_state=42)"
   ]
  },
  {
   "cell_type": "code",
   "execution_count": null,
   "id": "2b48ea05",
   "metadata": {},
   "outputs": [],
   "source": [
    "model_knn_2_sort1 = KNeighborsClassifier(n_neighbors=3)\n",
    "model_knn_2_sort1.fit(X_train_2_sort1, y_train_2_sort1)"
   ]
  },
  {
   "cell_type": "code",
   "execution_count": null,
   "id": "7cc0772f",
   "metadata": {},
   "outputs": [],
   "source": [
    "y_pred_2_sort1 = model_knn_2_sort1.predict(X_test_2_sort1)\n",
    "acc_2_sort1 =accuracy_score(y_pred_2_sort1, y_test_2_sort1) \n",
    "precision_2_sort1 = precision_score(y_test_2_sort1, y_pred_2_sort1, average='weighted')\n",
    "rec_2_sort1 = recall_score(y_test_2_sort1, y_pred_2_sort1, average='weighted')\n",
    "f_measure_2_sort1 = f1_score(y_test_2_sort1, y_pred_2_sort1, average='weighted')\n",
    "cl_rep_2_sort1 = classification_report(y_test_2_sort1, y_pred_2_sort1)\n",
    "\n",
    "print('Accuracy с отсортированными признаками (1): ', acc_2_sort1)\n",
    "print('Precision с отсортированными признаками (1): ', precision_2_sort1)\n",
    "print('Recall с отсортированными признаками (1): ', rec_2_sort1)\n",
    "print('f_measure с отсортированными признаками (1): ', f_measure_2_sort1)\n",
    "\n",
    "print(f\"Classification Report с отсортированными признаками (1): \\n {cl_rep_2_sort1}\")"
   ]
  },
  {
   "cell_type": "markdown",
   "id": "9ad6d532",
   "metadata": {},
   "source": [
    "Общие показатели качества стали хуже, чем при использовании всех нормализованных признаков. Скорее всего были исключены признаки, несущие важную информацию о классе.  \n",
    "\n",
    "Теперь выполним классификацию на отсортированных признаках, которые были получены в результате \"расчета\""
   ]
  },
  {
   "cell_type": "code",
   "execution_count": null,
   "id": "2e5b9000",
   "metadata": {},
   "outputs": [],
   "source": [
    "X_2_sort2, y_2_sort2 = df2_sort_2, df2['target']\n",
    "\n",
    "X_train_2_sort2, X_test_2_sort2, y_train_2_sort2, y_test_2_sort2 = train_test_split(X_2_sort2, y_2_sort2, \n",
    "                                                                                    stratify=y_2_sort2, train_size=0.75, \n",
    "                                                                                    random_state=42)"
   ]
  },
  {
   "cell_type": "code",
   "execution_count": null,
   "id": "db925982",
   "metadata": {},
   "outputs": [],
   "source": [
    "model_knn_2_sort2 = KNeighborsClassifier(n_neighbors=3)\n",
    "model_knn_2_sort2.fit(X_train_2_sort2, y_train_2_sort2)"
   ]
  },
  {
   "cell_type": "code",
   "execution_count": null,
   "id": "bf2ef04c",
   "metadata": {},
   "outputs": [],
   "source": [
    "y_pred_2_sort2 = model_knn_2_sort2.predict(X_test_2_sort2)\n",
    "acc_2_sort2 =accuracy_score(y_pred_2_sort2, y_test_2_sort2) \n",
    "precision_2_sort2 = precision_score(y_test_2_sort2, y_pred_2_sort2, average='weighted')\n",
    "rec_2_sort2 = recall_score(y_test_2_sort2, y_pred_2_sort2, average='weighted')\n",
    "f_measure_2_sort2 = f1_score(y_test_2_sort2, y_pred_2_sort2, average='weighted')\n",
    "cl_rep_2_sort2 = classification_report(y_test_2_sort2, y_pred_2_sort2)\n",
    "\n",
    "print('Accuracy с отсортированными признаками (2): ', acc_2_sort2)\n",
    "print('Precision с отсортированными признаками (2): ', precision_2_sort2)\n",
    "print('Recall с отсортированными признаками (2): ', rec_2_sort2)\n",
    "print('f_measure с отсортированными признаками (2): ', f_measure_2_sort2)\n",
    "\n",
    "print(f\"Classification Report с отсортированными признаками (2): \\n {cl_rep_2_sort2}\")"
   ]
  },
  {
   "cell_type": "markdown",
   "id": "f24145a7",
   "metadata": {},
   "source": [
    "Результат стал еще хуже. Вывод: не нужно исключать признаки из данного датасета. Будем использовать в дальнейших пунктах данный после нормализации без исключения признаков."
   ]
  },
  {
   "cell_type": "markdown",
   "id": "4bbd701c",
   "metadata": {},
   "source": [
    "**Перебрать значения гиперпараметра k в каком-нибудь диапазоне с использованием кросс-валидации на данных**"
   ]
  },
  {
   "cell_type": "code",
   "execution_count": null,
   "id": "ed2635d9",
   "metadata": {},
   "outputs": [],
   "source": [
    "train_score_ = []\n",
    "test_score_ = []\n",
    "crossval_score_ = [] \n",
    "\n",
    "for k in range(1, 16):\n",
    "    clf_ = KNeighborsClassifier(n_neighbors = k)\n",
    "    scores_ = cross_val_score(clf_, X_2, y_2, cv = StratifiedKFold(10))\n",
    "    print(f\"Neighbors: {k}, stratified folds count: 10 avg score: {scores_.mean()}\")\n",
    "    crossval_score_.append(scores_.mean())\n",
    "    clf_.fit(X_train_2, y_train_2)\n",
    "    pred_train_ = clf_.predict(X_train_2)\n",
    "    pred_test_ = clf_.predict(X_test_2)\n",
    "\n",
    "    train_score_.append(accuracy_score(y_train_2, pred_train_))\n",
    "    test_score_.append(accuracy_score(y_test_2, pred_test_))"
   ]
  },
  {
   "cell_type": "markdown",
   "id": "15d13c9b",
   "metadata": {},
   "source": [
    "По данному датасету классифкатору больше нравится использовать 12 соседей для повышения точности"
   ]
  },
  {
   "cell_type": "code",
   "execution_count": null,
   "id": "b0d70e1d",
   "metadata": {},
   "outputs": [],
   "source": [
    "fig, ax = plt.subplots(figsize=(9, 5))\n",
    "ax.plot(range(1, 16), train_score_, label=\"train accuracy\")\n",
    "ax.plot(range(1, 16), test_score_, label=\"test accuracy\")\n",
    "ax.set_ylabel(\"Accuracy\")\n",
    "ax.set_xlabel(\"Neighbors count\")\n",
    "ax.set_xticks(range(1, 16))\n",
    "ax.legend()"
   ]
  },
  {
   "cell_type": "markdown",
   "id": "8685c4fd",
   "metadata": {},
   "source": [
    "**Для лучшего классификатора привести метрики, classification_report, построить confusion matrix**"
   ]
  },
  {
   "cell_type": "markdown",
   "id": "66c9fb6f",
   "metadata": {},
   "source": [
    "Лучшее значение точности было выбрано при k = 12."
   ]
  },
  {
   "cell_type": "code",
   "execution_count": null,
   "id": "b6dc60b4",
   "metadata": {},
   "outputs": [],
   "source": [
    "Result_model = KNeighborsClassifier(n_neighbors=12)\n",
    "Result_model.fit(X_train_2, y_train_2)"
   ]
  },
  {
   "cell_type": "code",
   "execution_count": null,
   "id": "0e20c963",
   "metadata": {},
   "outputs": [],
   "source": [
    "y_pred_res = Result_model.predict(X_test_2)\n",
    "acc_res =accuracy_score(y_pred_res, y_test_2) \n",
    "precision_res = precision_score(y_test_2, y_pred_res, average='weighted')\n",
    "rec_res = recall_score(y_test_2, y_pred_res, average='weighted')\n",
    "f_measure_res = f1_score(y_test_2, y_pred_res, average='weighted')\n",
    "cl_rep_res = classification_report(y_test_2, y_pred_res)\n",
    "\n",
    "print('Accuracy итоговой модели: ', acc_res)\n",
    "print('Precision итоговой модели: ', precision_res)\n",
    "print('Recall итоговой модели: ', rec_res)\n",
    "print('f_measure итоговой модели: ', f_measure_res)\n",
    "\n",
    "print(f\"Classification Report итоговой модели: \\n {cl_rep_res}\")"
   ]
  },
  {
   "cell_type": "code",
   "execution_count": null,
   "id": "7d225a08",
   "metadata": {},
   "outputs": [],
   "source": [
    "from sklearn.metrics import confusion_matrix\n",
    "\n",
    "cm = confusion_matrix(y_test_2, y_pred_res)\n",
    "print(cm)"
   ]
  },
  {
   "cell_type": "code",
   "execution_count": null,
   "id": "bc81dbbd",
   "metadata": {},
   "outputs": [],
   "source": [
    "sns.heatmap(data=cm, cmap=sns.cubehelix_palette(as_cmap=True), square=True, annot=True, fmt='d', \n",
    "            xticklabels=['0', '1', '2'], yticklabels=['0', '1', '2'])"
   ]
  },
  {
   "cell_type": "markdown",
   "id": "50160e69",
   "metadata": {},
   "source": [
    "Выводы по матрице ошибок:\n",
    "- Для класса 0 модель правильно предсказала 15 случаев, допустила одну ошибку второго рода, приняв один из случаев за 1-ый класс; \n",
    "- Для класса 1 модель правильно предсказала 17 и не допустила ни одной ошибки первого и второго рода, о чем и говорит precision = 1 для данного класса; \n",
    "- Для класса 2 модель правильно предсказала 12 случаев, аналогично 1-му классу не допустила ни одну из ошибок. "
   ]
  }
 ],
 "metadata": {
  "kernelspec": {
   "display_name": "Python 3 (ipykernel)",
   "language": "python",
   "name": "python3"
  },
  "language_info": {
   "codemirror_mode": {
    "name": "ipython",
    "version": 3
   },
   "file_extension": ".py",
   "mimetype": "text/x-python",
   "name": "python",
   "nbconvert_exporter": "python",
   "pygments_lexer": "ipython3",
   "version": "3.11.4"
  }
 },
 "nbformat": 4,
 "nbformat_minor": 5
}
